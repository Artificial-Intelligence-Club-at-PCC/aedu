{
 "cells": [
  {
   "cell_type": "code",
   "execution_count": null,
   "id": "764aa221",
   "metadata": {},
   "outputs": [],
   "source": [
    "from sentence_transformers import SentenceTransformer\n",
    "import faiss\n",
    "import numpy as np\n",
    "\n",
    "retriever = SentenceTransformer('sentence-transformers/all-MiniLM-L6-v2')\n",
    "doc_embeddings = retriever.encode(latex_docs)\n",
    "\n",
    "index = faiss.IndexFlatL2(doc_embeddings.shape[1])\n",
    "index.add(doc_embeddings)\n",
    "\n",
    "query_embedding = retriever.encode([latex_query])[0]\n",
    "_, I = index.search(np.array([query_embedding]), k=5)\n",
    "\n",
    "retrieved_latex = [latex_docs[i] for i in I[0]]"
   ]
  },
  {
   "cell_type": "code",
   "execution_count": null,
   "id": "792a3111",
   "metadata": {},
   "outputs": [],
   "source": [
    "from transformers import AutoTokenizer, AutoModelForSeq2SeqLM\n",
    "\n",
    "tokenizer = AutoTokenizer.from_pretrained(\"facebook/bart-large\")\n",
    "model = AutoModelForSeq2SeqLM.from_pretrained(\"facebook/bart-large\")\n",
    "\n",
    "context = \"\\n\".join([f\"[DOC_{i+1}] {doc}\" for i, doc in enumerate(retrieved_latex)])\n",
    "input_text = f\"{context}\\n\\n[QUERY] {latex_query}\"\n",
    "inputs = tokenizer(input_text, return_tensors=\"pt\", max_length=1024, truncation=True)\n",
    "\n",
    "outputs = model.generate(**inputs, max_new_tokens=512)\n",
    "response = tokenizer.decode(outputs[0], skip_special_tokens=True)"
   ]
  }
 ],
 "metadata": {
  "language_info": {
   "name": "python"
  }
 },
 "nbformat": 4,
 "nbformat_minor": 5
}
